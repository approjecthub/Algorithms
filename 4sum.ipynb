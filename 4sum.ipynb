{
  "nbformat": 4,
  "nbformat_minor": 0,
  "metadata": {
    "colab": {
      "name": "4sum.ipynb",
      "provenance": [],
      "authorship_tag": "ABX9TyNOlvYcNKJbOjhuaG0uZ/Op",
      "include_colab_link": true
    },
    "kernelspec": {
      "name": "python3",
      "display_name": "Python 3"
    },
    "language_info": {
      "name": "python"
    }
  },
  "cells": [
    {
      "cell_type": "markdown",
      "metadata": {
        "id": "view-in-github",
        "colab_type": "text"
      },
      "source": [
        "<a href=\"https://colab.research.google.com/github/approjecthub/Algorithms/blob/master/4sum.ipynb\" target=\"_parent\"><img src=\"https://colab.research.google.com/assets/colab-badge.svg\" alt=\"Open In Colab\"/></a>"
      ]
    },
    {
      "cell_type": "markdown",
      "metadata": {
        "id": "2hBu_kUxmDYR"
      },
      "source": [
        "https://leetcode.com/problems/4sum/"
      ]
    },
    {
      "cell_type": "code",
      "metadata": {
        "id": "l8NQZvIFltHl"
      },
      "source": [
        "class Solution:\n",
        "    def fourSum(self, nums: List[int], target: int) -> List[List[int]]:\n",
        "        nums.sort()\n",
        "        n = len(nums)\n",
        "        \n",
        "        ans = []\n",
        "        for i in range(n-3):#n-k+1\n",
        "            if i>0 and nums[i-1]==nums[i]:\n",
        "                continue\n",
        "            for j in range(i+1, n-2):\n",
        "                if j>i+1 and nums[j-1]==nums[j]:\n",
        "                    continue\n",
        "                q = n-1\n",
        "                p = j+1\n",
        "                \n",
        "                while p<q:\n",
        "                    if nums[i]+nums[j]+nums[p]+nums[q]== target:\n",
        "                        ans.append([nums[i],nums[j],nums[p],nums[q]])\n",
        "                        p+=1\n",
        "                        while p<q and nums[p-1]==nums[p]:\n",
        "                            \n",
        "                            p+= 1\n",
        "                    elif nums[i]+nums[j]+nums[p]+nums[q]< target:\n",
        "                        p += 1\n",
        "                        \n",
        "                    else:\n",
        "                        q-=1\n",
        "                        \n",
        "        return ans\n",
        "                    \n",
        "                \n",
        "                    "
      ],
      "execution_count": null,
      "outputs": []
    }
  ]
}