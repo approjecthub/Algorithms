{
  "nbformat": 4,
  "nbformat_minor": 0,
  "metadata": {
    "colab": {
      "name": "Best Time to Buy and Sell Stock.ipynb",
      "provenance": [],
      "authorship_tag": "ABX9TyMUF5NEzidNLL5UrRxxMu/d",
      "include_colab_link": true
    },
    "kernelspec": {
      "name": "python3",
      "display_name": "Python 3"
    },
    "language_info": {
      "name": "python"
    }
  },
  "cells": [
    {
      "cell_type": "markdown",
      "metadata": {
        "id": "view-in-github",
        "colab_type": "text"
      },
      "source": [
        "<a href=\"https://colab.research.google.com/github/approjecthub/Algorithms/blob/master/Best_Time_to_Buy_and_Sell_Stock.ipynb\" target=\"_parent\"><img src=\"https://colab.research.google.com/assets/colab-badge.svg\" alt=\"Open In Colab\"/></a>"
      ]
    },
    {
      "cell_type": "markdown",
      "metadata": {
        "id": "sr1a5GRvs-Ps"
      },
      "source": [
        "https://leetcode.com/problems/best-time-to-buy-and-sell-stock/"
      ]
    },
    {
      "cell_type": "code",
      "metadata": {
        "id": "3CM3CNC5s4jl"
      },
      "source": [
        "\n",
        "def maxProfit( prices) :\n",
        "    if len(prices)==0:\n",
        "        return 0\n",
        "    maxp = 0\n",
        "    temp = 0\n",
        "    for i in range(1,len(prices)):\n",
        "        temp = max(temp + prices[i]-prices[i-1], 0)\n",
        "        \n",
        "        maxp = max(maxp, temp)\n",
        "        \n",
        "    return maxp\n",
        "    "
      ],
      "execution_count": null,
      "outputs": []
    },
    {
      "cell_type": "code",
      "metadata": {
        "colab": {
          "base_uri": "https://localhost:8080/"
        },
        "id": "wWBF3y2ctKB-",
        "outputId": "283acfcf-8ea5-4ac5-9682-e109198c553a"
      },
      "source": [
        "prices = [7,1,5,3,6,4]\n",
        "print(maxProfit( prices))"
      ],
      "execution_count": null,
      "outputs": [
        {
          "output_type": "stream",
          "text": [
            "5\n"
          ],
          "name": "stdout"
        }
      ]
    },
    {
      "cell_type": "markdown",
      "metadata": {
        "id": "LP-GpnSlrOmE"
      },
      "source": [
        "https://leetcode.com/problems/best-time-to-buy-and-sell-stock-ii/"
      ]
    },
    {
      "cell_type": "code",
      "metadata": {
        "id": "jkdY9-cMtQ91"
      },
      "source": [
        "# You are given an array prices where prices[i] is the price of a given stock on the ith day.\n",
        "\n",
        "# Find the maximum profit you can achieve. You may complete as many transactions as you like (i.e., buy one and sell one share of the stock multiple times).\n",
        "\n",
        "# Note: You may not engage in multiple transactions simultaneously (i.e., you must sell the stock before you buy again).\n",
        "\n",
        " \n",
        "\n",
        "# Example 1:\n",
        "\n",
        "# Input: prices = [7,1,5,3,6,4]\n",
        "# Output: 7\n",
        "# Explanation: Buy on day 2 (price = 1) and sell on day 3 (price = 5), profit = 5-1 = 4.\n",
        "# Then buy on day 4 (price = 3) and sell on day 5 (price = 6), profit = 6-3 = 3."
      ],
      "execution_count": null,
      "outputs": []
    },
    {
      "cell_type": "code",
      "metadata": {
        "id": "GXBe6yPUrX0M"
      },
      "source": [
        "class Solution:\n",
        "    def solve(self, i, n, flag,prices):\n",
        "        if(i==n):\n",
        "            return 0\n",
        "        elif flag:\n",
        "            return max(self.solve(i+1, n, not flag, prices)-prices[i], self.solve(i+1, n, flag, prices))\n",
        "        else:\n",
        "            return max(self.solve(i+1, n, not flag, prices)+prices[i], self.solve(i+1, n, flag, prices))\n",
        "    \n",
        "    def maxProfit(self, prices: List[int]) -> int:\n",
        "        return self.solve(0, len(prices), True, prices)\n",
        "        "
      ],
      "execution_count": null,
      "outputs": []
    },
    {
      "cell_type": "code",
      "metadata": {
        "id": "O97YvBd1rcWh"
      },
      "source": [
        "class Solution:\n",
        "    \n",
        "    def maxProfit(self, prices: List[int]) -> int:\n",
        "        n = len(prices)\n",
        "        dp = [[0,0]]*n      \n",
        "        ##dp[i][0]=> buying point, \n",
        "        ##dp[i][1]=> selling point\n",
        "        \n",
        "        dp[0][0] = -prices[0]\n",
        "        for i in range(1,n):\n",
        "            \n",
        "            dp[i][0] = max(dp[i-1][1] - prices[i] , dp[i-1][0])\n",
        "            dp[i][1] = max(dp[i-1][0]+ prices[i], dp[i-1][1])\n",
        "            \n",
        "        return max(dp[n-1][1], dp[n-1][0])\n",
        "        "
      ],
      "execution_count": null,
      "outputs": []
    },
    {
      "cell_type": "markdown",
      "metadata": {
        "id": "MLxQoKiT580t"
      },
      "source": [
        "https://leetcode.com/problems/best-time-to-buy-and-sell-stock-iii/"
      ]
    },
    {
      "cell_type": "code",
      "metadata": {
        "id": "FzxQpDxd5_w1"
      },
      "source": [
        "# You are given an array prices where prices[i] is the price of a given stock on the ith day.\n",
        "\n",
        "# Find the maximum profit you can achieve. You may complete at most two transactions.\n",
        "\n",
        "# Note: You may not engage in multiple transactions simultaneously (i.e., you must sell the stock before you buy again).\n",
        "\n",
        " \n",
        "\n",
        "# Example 1:\n",
        "\n",
        "# Input: prices = [3,3,5,0,0,3,1,4]\n",
        "# Output: 6\n",
        "# Explanation: Buy on day 4 (price = 0) and sell on day 6 (price = 3), profit = 3-0 = 3.\n",
        "# Then buy on day 7 (price = 1) and sell on day 8 (price = 4), profit = 4-1 = 3."
      ],
      "execution_count": null,
      "outputs": []
    },
    {
      "cell_type": "code",
      "metadata": {
        "id": "r-DukZ2V6EDN"
      },
      "source": [
        "class Solution:\n",
        "    def solve(self, i, n,c, flag,prices):\n",
        "        \n",
        "        if(i>=n or c<=0):\n",
        "            return 0\n",
        "        if self.dp[i][flag-1][c-1]!=-1:\n",
        "            return self.dp[i][flag-1][c-1]\n",
        "        elif flag==1:\n",
        "            self.dp[i][flag-1][c-1] = max(self.solve(i+1, n,c-1, 2, prices)-prices[i], self.solve(i+1, n,c, 1, prices))\n",
        "        else:\n",
        "            self.dp[i][flag-1][c-1] = max(self.solve(i+1, n,c-1, 1, prices)+prices[i], self.solve(i+1, n,c, 2, prices))\n",
        "            \n",
        "        return self.dp[i][flag-1][c-1]\n",
        "    \n",
        "    def maxProfit(self, prices: List[int]) -> int:\n",
        "        self.dp = []##it need n*2*c\n",
        "        n = len(prices)\n",
        "        c = 4\n",
        "        for i in range(n):\n",
        "            self.dp.append([[-1]*c]*2)\n",
        "        return self.solve(0, len(prices),c, 1, prices)"
      ],
      "execution_count": null,
      "outputs": []
    }
  ]
}